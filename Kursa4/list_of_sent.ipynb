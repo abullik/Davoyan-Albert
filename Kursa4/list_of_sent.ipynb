{
 "cells": [
  {
   "cell_type": "code",
   "execution_count": 1,
   "metadata": {
    "collapsed": true
   },
   "outputs": [],
   "source": [
    "import pandas as pd"
   ]
  },
  {
   "cell_type": "code",
   "execution_count": 2,
   "metadata": {
    "collapsed": true
   },
   "outputs": [
    {
     "name": "stdout",
     "output_type": "stream",
     "text": [
      "играть ходить начинать существовать слышать пытаться чувствовать создать успевать окружать подчеркивать пугать поцеловать отменить заказать сообразить доказывать гордиться благодарить сменить опасаться заслужить заплакать валяться любить столкнуться добиваться нарушать записывать прятаться размышлять располагать подсказать кружиться улучшить ухаживать ожидать заменить выдумать усилить шить освободить подозревать упомянуть уважать похитить "
     ]
    }
   ],
   "source": [
    "verbs = []\n",
    "with open('train_verbs.txt','r',encoding='utf-8') as f:\n",
    "    for line in f:\n",
    "        verbs.append(line.strip())\n",
    "for i in verbs:\n",
    "    print(i, end=' ') "
   ]
  },
  {
   "cell_type": "markdown",
   "metadata": {},
   "source": [
    "Запись предложений, где встречается глагол (word), в файл, имя которого мы указываем в filename."
   ]
  },
  {
   "cell_type": "code",
   "execution_count": 4,
   "metadata": {
    "collapsed": false
   },
   "outputs": [],
   "source": [
    "def findsent(word, data, filename):\n",
    "    from time import time\n",
    "    start = time()\n",
    "    \n",
    "    sentlist = open(filename, 'a',encoding='utf-8')\n",
    "    for index, row in data.iterrows():\n",
    "        if row['lemma'] == word:\n",
    "            begin = index - row['word_num'] + 1\n",
    "            end = index + 1\n",
    "            while data['gramm'].loc[end] != 'SENT':\n",
    "                end += 1\n",
    "            for i in range(begin, end + 1):\n",
    "                #if data['link'].loc[i] == 'PUNC' or pd.isnull(data['link'].loc[i]):\n",
    "                #    sentlist.write(data['token'].loc[i])\n",
    "                #else:\n",
    "                if data['token'].loc[i] == '\\t':\n",
    "                    sentlist.write('\\\"')\n",
    "                else:\n",
    "                    sentlist.write(' ' + data['token'].loc[i])\n",
    "            sentlist.write('\\n')\n",
    "    sentlist.close()\n",
    "    print('Processing time: {}'.format((time() - start) / 60))"
   ]
  },
  {
   "cell_type": "markdown",
   "metadata": {},
   "source": [
    "Соберем все предложения с глаголом \"создать\" из корпуса, разбитого на 4 документа. Запись в документ list_of_sent.txt"
   ]
  },
  {
   "cell_type": "code",
   "execution_count": 5,
   "metadata": {
    "collapsed": false
   },
   "outputs": [
    {
     "name": "stdout",
     "output_type": "stream",
     "text": [
      "Processing time: 7.664929831027985\n",
      "Processing time: 7.401448245843252\n",
      "Processing time: 7.422016302744548\n",
      "Processing time: 8.206692496935526\n"
     ]
    }
   ],
   "source": [
    "import os\n",
    "for doc in os.listdir(\".\\corpora\"):\n",
    "    doc = pd.read_csv(\".\\corpora\\\\\" + doc,delimiter='\\t',header=0,encoding='utf-8')\n",
    "    findsent('создать', doc, 'list_of_sent.txt')"
   ]
  }
 ],
 "metadata": {
  "kernelspec": {
   "display_name": "Python 3",
   "language": "python",
   "name": "python3"
  },
  "language_info": {
   "codemirror_mode": {
    "name": "ipython",
    "version": 3
   },
   "file_extension": ".py",
   "mimetype": "text/x-python",
   "name": "python",
   "nbconvert_exporter": "python",
   "pygments_lexer": "ipython3",
   "version": "3.5.1"
  }
 },
 "nbformat": 4,
 "nbformat_minor": 0
}
