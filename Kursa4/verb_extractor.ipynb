{
 "cells": [
  {
   "cell_type": "code",
   "execution_count": 2,
   "metadata": {
    "collapsed": false,
    "scrolled": true
   },
   "outputs": [
    {
     "data": {
      "text/plain": [
       "68"
      ]
     },
     "execution_count": 2,
     "metadata": {},
     "output_type": "execute_result"
    }
   ],
   "source": [
    "import pandas as pd\n",
    "import csv\n",
    "\n",
    "infotable = open('infotable.csv', 'a', encoding='utf-8')\n",
    "writer = csv.writer(infotable, quoting=csv.QUOTE_NONE, escapechar='', quotechar='', delimiter='\\t')\n",
    "\n",
    "col_names = ['L10','L9','L8','L7','L6','L5','L4','L3','L2','L1','Verb','R1','R2','R3','R4','R5','R6','R7','R8','R9','R10']\n",
    "\n",
    "writer.writerow(col_names)"
   ]
  },
  {
   "cell_type": "code",
   "execution_count": 31,
   "metadata": {
    "collapsed": true
   },
   "outputs": [],
   "source": [
    "def clearpunc(table):\n",
    "    for index, row in table.iterrows():\n",
    "        if (row['link'] == 'PUNC' or pd.isnull(row['link'])) and row['gramm'] != 'SENT':\n",
    "            table.drop(index, axis = 0, inplace = True)\n",
    "    table.index = range(len(table))"
   ]
  },
  {
   "cell_type": "code",
   "execution_count": 3,
   "metadata": {
    "collapsed": true
   },
   "outputs": [],
   "source": [
    "def extraction(word, table):\n",
    "    clearpunc(table)\n",
    "    for index, row in table.iterrows():\n",
    "        if row['lemma'] == word:\n",
    "            line  = [] * 21\n",
    "            line[10] = word\n",
    "            left = 1\n",
    "            while table['gramm'].loc[index - left] != 'SENT' and left <= 10 and (index - left) >= 0:\n",
    "                line[10-left] = table['POS'].loc[index-left]\n",
    "                line += 1\n",
    "            right = 1\n",
    "            while table['gramm'].loc[index + right] != 'SENT' and right <= 10 and (index + right) < len(table):\n",
    "                line[10 + right] = table['POS'].loc[index + right]\n",
    "                right +=1\n",
    "            writer.writerow(line)"
   ]
  },
  {
   "cell_type": "code",
   "execution_count": 5,
   "metadata": {
    "collapsed": true
   },
   "outputs": [],
   "source": [
    "doc = pd.read_csv(\".\\corpora\\corpus-i-part1.txt\",delimiter='\\t',header=0,encoding='utf-8')"
   ]
  },
  {
   "cell_type": "code",
   "execution_count": 26,
   "metadata": {
    "collapsed": true
   },
   "outputs": [],
   "source": [
    "doc2 = doc[90:120]"
   ]
  },
  {
   "cell_type": "code",
   "execution_count": 29,
   "metadata": {
    "collapsed": false,
    "scrolled": false
   },
   "outputs": [
    {
     "name": "stderr",
     "output_type": "stream",
     "text": [
      "c:\\python35\\lib\\site-packages\\ipykernel\\__main__.py:4: SettingWithCopyWarning: \n",
      "A value is trying to be set on a copy of a slice from a DataFrame\n",
      "\n",
      "See the caveats in the documentation: http://pandas.pydata.org/pandas-docs/stable/indexing.html#indexing-view-versus-copy\n"
     ]
    }
   ],
   "source": [
    "clearpunc(doc2)"
   ]
  },
  {
   "cell_type": "code",
   "execution_count": 32,
   "metadata": {
    "collapsed": false
   },
   "outputs": [
    {
     "name": "stdout",
     "output_type": "stream",
     "text": [
      "играть ходить начинать существовать слышать пытаться чувствовать создать успевать окружать подчеркивать пугать поцеловать отменить завершить заказать сообразить доказывать гордиться благодарить совпадать сменить опасаться заслужить заплакать валяться полюбить заснуть столкнуться добиваться нарушать отобрать записывать прятаться размышлять располагать подсказать кружиться улучшить ухаживать ожидаться заменять выдумать усилить шить освободить подозревать упомянуть уважать похитить "
     ]
    }
   ],
   "source": [
    "verbs = []\n",
    "with open('train_verbs.txt','r',encoding='utf-8') as f:\n",
    "    for line in f:\n",
    "        verbs.append(line.strip())\n",
    "for i in verbs:\n",
    "    print(i, end=' ') "
   ]
  },
  {
   "cell_type": "code",
   "execution_count": null,
   "metadata": {
    "collapsed": true
   },
   "outputs": [],
   "source": [
    "import os\n",
    "for doc in os.listdir(\".\\corpora\"):\n",
    "    doc = pd.read_csv(\".\\corpora\\\\\" + doc,delimiter='\\t',header=0,encoding='utf-8')\n",
    "    extraction('создать', doc)"
   ]
  }
 ],
 "metadata": {
  "kernelspec": {
   "display_name": "Python 3",
   "language": "python",
   "name": "python3"
  },
  "language_info": {
   "codemirror_mode": {
    "name": "ipython",
    "version": 3
   },
   "file_extension": ".py",
   "mimetype": "text/x-python",
   "name": "python",
   "nbconvert_exporter": "python",
   "pygments_lexer": "ipython3",
   "version": "3.5.1"
  }
 },
 "nbformat": 4,
 "nbformat_minor": 0
}
